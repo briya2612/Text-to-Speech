{
  "nbformat": 4,
  "nbformat_minor": 0,
  "metadata": {
    "colab": {
      "provenance": []
    },
    "kernelspec": {
      "name": "python3",
      "display_name": "Python 3"
    },
    "language_info": {
      "name": "python"
    }
  },
  "cells": [
    {
      "cell_type": "markdown",
      "source": [
        "Text to Speech\n",
        "\n"
      ],
      "metadata": {
        "id": "8ZRdnTIpGb6Q"
      }
    },
    {
      "cell_type": "code",
      "source": [
        "!pip install pyttsx3\n",
        "!apt-get install espeak\n",
        "\n",
        "import pyttsx3\n",
        "\n",
        "# Create a TTS engine\n",
        "engine = pyttsx3.init()\n",
        "\n",
        "# Set the properties for the TTS engine\n",
        "engine.setProperty('rate', 150)  # Speed of speech (words per minute)\n",
        "engine.setProperty('volume', 0.8)  # Volume level (0.0 to 1.0)\n",
        "\n",
        "# Enter the text to be converted to speech\n",
        "text = \"Hello, how are you? I hope you're doing well.\"\n",
        "\n",
        "# Convert text to speech\n",
        "engine.say(text)\n",
        "\n",
        "# Wait for the speech to complete\n",
        "engine.runAndWait()\n"
      ],
      "metadata": {
        "colab": {
          "base_uri": "https://localhost:8080/"
        },
        "id": "TYkE1yOyGpRZ",
        "outputId": "cd89090a-d741-4f79-f5f2-57946a2355f1"
      },
      "execution_count": null,
      "outputs": [
        {
          "output_type": "stream",
          "name": "stdout",
          "text": [
            "Looking in indexes: https://pypi.org/simple, https://us-python.pkg.dev/colab-wheels/public/simple/\n",
            "Requirement already satisfied: pyttsx3 in /usr/local/lib/python3.10/dist-packages (2.90)\n",
            "Reading package lists... Done\n",
            "Building dependency tree       \n",
            "Reading state information... Done\n",
            "The following additional packages will be installed:\n",
            "  espeak-data libespeak1 libportaudio2 libsonic0\n",
            "The following NEW packages will be installed:\n",
            "  espeak espeak-data libespeak1 libportaudio2 libsonic0\n",
            "0 upgraded, 5 newly installed, 0 to remove and 15 not upgraded.\n",
            "Need to get 1,220 kB of archives.\n",
            "After this operation, 3,060 kB of additional disk space will be used.\n",
            "Get:1 http://archive.ubuntu.com/ubuntu focal/universe amd64 libportaudio2 amd64 19.6.0-1build1 [65.4 kB]\n",
            "Get:2 http://archive.ubuntu.com/ubuntu focal/main amd64 libsonic0 amd64 0.2.0-8 [13.1 kB]\n",
            "Get:3 http://archive.ubuntu.com/ubuntu focal/universe amd64 espeak-data amd64 1.48.04+dfsg-8build1 [932 kB]\n",
            "Get:4 http://archive.ubuntu.com/ubuntu focal/universe amd64 libespeak1 amd64 1.48.04+dfsg-8build1 [147 kB]\n",
            "Get:5 http://archive.ubuntu.com/ubuntu focal/universe amd64 espeak amd64 1.48.04+dfsg-8build1 [61.8 kB]\n",
            "Fetched 1,220 kB in 1s (825 kB/s)\n",
            "Selecting previously unselected package libportaudio2:amd64.\n",
            "(Reading database ... 123069 files and directories currently installed.)\n",
            "Preparing to unpack .../libportaudio2_19.6.0-1build1_amd64.deb ...\n",
            "Unpacking libportaudio2:amd64 (19.6.0-1build1) ...\n",
            "Selecting previously unselected package libsonic0:amd64.\n",
            "Preparing to unpack .../libsonic0_0.2.0-8_amd64.deb ...\n",
            "Unpacking libsonic0:amd64 (0.2.0-8) ...\n",
            "Selecting previously unselected package espeak-data:amd64.\n",
            "Preparing to unpack .../espeak-data_1.48.04+dfsg-8build1_amd64.deb ...\n",
            "Unpacking espeak-data:amd64 (1.48.04+dfsg-8build1) ...\n",
            "Selecting previously unselected package libespeak1:amd64.\n",
            "Preparing to unpack .../libespeak1_1.48.04+dfsg-8build1_amd64.deb ...\n",
            "Unpacking libespeak1:amd64 (1.48.04+dfsg-8build1) ...\n",
            "Selecting previously unselected package espeak.\n",
            "Preparing to unpack .../espeak_1.48.04+dfsg-8build1_amd64.deb ...\n",
            "Unpacking espeak (1.48.04+dfsg-8build1) ...\n",
            "Setting up libportaudio2:amd64 (19.6.0-1build1) ...\n",
            "Setting up libsonic0:amd64 (0.2.0-8) ...\n",
            "Setting up espeak-data:amd64 (1.48.04+dfsg-8build1) ...\n",
            "Setting up libespeak1:amd64 (1.48.04+dfsg-8build1) ...\n",
            "Setting up espeak (1.48.04+dfsg-8build1) ...\n",
            "Processing triggers for man-db (2.9.1-1) ...\n",
            "Processing triggers for libc-bin (2.31-0ubuntu9.9) ...\n"
          ]
        }
      ]
    },
    {
      "cell_type": "code",
      "source": [],
      "metadata": {
        "id": "HmENf3bNKw94"
      },
      "execution_count": null,
      "outputs": []
    }
  ]
}